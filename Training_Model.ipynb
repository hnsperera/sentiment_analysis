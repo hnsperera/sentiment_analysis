{
 "cells": [
  {
   "cell_type": "code",
   "execution_count": 1,
   "metadata": {},
   "outputs": [],
   "source": [
    "#------------Import_all_libraries_for_operation-----------------\n",
    "import nltk.classify.util\n",
    "from nltk.classify import NaiveBayesClassifier\n",
    "from nltk.corpus import names\n",
    "from time import sleep\n",
    "import pandas as pd\n",
    "import nltk\n",
    "from nltk.corpus import stopwords\n",
    "from nltk.classify import NaiveBayesClassifier\n",
    "from sklearn.feature_extraction.text import TfidfVectorizer\n",
    "from sklearn.model_selection import train_test_split\n",
    "from sklearn import naive_bayes\n",
    "import numpy as np\n",
    "from sklearn import preprocessing\n",
    "from time import sleep\n"
   ]
  },
  {
   "cell_type": "code",
   "execution_count": 2,
   "metadata": {},
   "outputs": [],
   "source": [
    "#-----------------Read-dataset_in_csv_format------------------------"
   ]
  },
  {
   "cell_type": "code",
   "execution_count": 3,
   "metadata": {},
   "outputs": [],
   "source": [
    "sentiment_data = pd.read_csv('/home/sampath-pc/Documents/new_sentiment_vin/trainingdata.txt', \n",
    "                             sep='\\t', names=['Class','Text'])"
   ]
  },
  {
   "cell_type": "code",
   "execution_count": 4,
   "metadata": {},
   "outputs": [
    {
     "data": {
      "text/html": [
       "<div>\n",
       "<style scoped>\n",
       "    .dataframe tbody tr th:only-of-type {\n",
       "        vertical-align: middle;\n",
       "    }\n",
       "\n",
       "    .dataframe tbody tr th {\n",
       "        vertical-align: top;\n",
       "    }\n",
       "\n",
       "    .dataframe thead th {\n",
       "        text-align: right;\n",
       "    }\n",
       "</style>\n",
       "<table border=\"1\" class=\"dataframe\">\n",
       "  <thead>\n",
       "    <tr style=\"text-align: right;\">\n",
       "      <th></th>\n",
       "      <th>Class</th>\n",
       "      <th>Text</th>\n",
       "    </tr>\n",
       "  </thead>\n",
       "  <tbody>\n",
       "    <tr>\n",
       "      <th>0</th>\n",
       "      <td>1</td>\n",
       "      <td>The Da Vinci Code book is just awesome.</td>\n",
       "    </tr>\n",
       "    <tr>\n",
       "      <th>1</th>\n",
       "      <td>1</td>\n",
       "      <td>this was the first clive cussler i've ever rea...</td>\n",
       "    </tr>\n",
       "    <tr>\n",
       "      <th>2</th>\n",
       "      <td>1</td>\n",
       "      <td>i liked the Da Vinci Code a lot.</td>\n",
       "    </tr>\n",
       "    <tr>\n",
       "      <th>3</th>\n",
       "      <td>1</td>\n",
       "      <td>i liked the Da Vinci Code a lot.</td>\n",
       "    </tr>\n",
       "    <tr>\n",
       "      <th>4</th>\n",
       "      <td>1</td>\n",
       "      <td>I liked the Da Vinci Code but it ultimatly did...</td>\n",
       "    </tr>\n",
       "  </tbody>\n",
       "</table>\n",
       "</div>"
      ],
      "text/plain": [
       "   Class                                               Text\n",
       "0      1            The Da Vinci Code book is just awesome.\n",
       "1      1  this was the first clive cussler i've ever rea...\n",
       "2      1                   i liked the Da Vinci Code a lot.\n",
       "3      1                   i liked the Da Vinci Code a lot.\n",
       "4      1  I liked the Da Vinci Code but it ultimatly did..."
      ]
     },
     "execution_count": 4,
     "metadata": {},
     "output_type": "execute_result"
    }
   ],
   "source": [
    "sentiment_data.head()"
   ]
  },
  {
   "cell_type": "code",
   "execution_count": 5,
   "metadata": {},
   "outputs": [],
   "source": [
    "#---------------Get_english_language_stop-words_from_nltk_corpus--------------\n",
    "\n",
    "stop_word = set(stopwords.words('english'))\n",
    "\n",
    "#--------------Define_vectorizer_to_remove_stop_words_from_each_sentence----------------\n",
    "vectorizer =TfidfVectorizer(use_idf=True,lowercase=True\n",
    "                            ,strip_accents='ascii'\n",
    "                            ,stop_words=stop_word)"
   ]
  },
  {
   "cell_type": "code",
   "execution_count": 6,
   "metadata": {},
   "outputs": [],
   "source": [
    "#--------------Extract_target_columns-----------------\n",
    "y=sentiment_data.Class"
   ]
  },
  {
   "cell_type": "code",
   "execution_count": 7,
   "metadata": {},
   "outputs": [
    {
     "name": "stdout",
     "output_type": "stream",
     "text": [
      "(6918,)\n",
      "(6918, 2011)\n"
     ]
    }
   ],
   "source": [
    "#--------------transform_text_to_numeric_dataset---------------\n",
    "x=vectorizer.fit_transform(sentiment_data.Text)\n",
    "print (y.shape)\n",
    "print (x.shape)"
   ]
  },
  {
   "cell_type": "code",
   "execution_count": 8,
   "metadata": {},
   "outputs": [
    {
     "name": "stdout",
     "output_type": "stream",
     "text": [
      "(5189, 2011) (1729, 2011)\n"
     ]
    }
   ],
   "source": [
    "#---------Split_dataset_into_train_and_test------------\n",
    "\"\"\"Train_data will be use for training_model while Test_data will be used to \n",
    "evaluate model performance\"\"\"\n",
    "X_train, X_test, Y_train, Y_test = train_test_split(x,y,test_size=int(x.shape[0]*0.25),random_state=42)\n",
    "scaler = preprocessing.StandardScaler(with_mean=False).fit(X_train)\n",
    "X_train_transformed = scaler.transform(X_train)\n",
    "\n",
    "print(X_train.shape,X_test.shape)"
   ]
  },
  {
   "cell_type": "code",
   "execution_count": 9,
   "metadata": {},
   "outputs": [
    {
     "name": "stdout",
     "output_type": "stream",
     "text": [
      "[[1.07399235e-02 9.89260077e-01]\n",
      " [4.09960453e-04 9.99590040e-01]\n",
      " [4.81570381e-03 9.95184296e-01]\n",
      " ...\n",
      " [9.97563166e-01 2.43683387e-03]\n",
      " [4.97692372e-03 9.95023076e-01]\n",
      " [9.88344119e-01 1.16558811e-02]]\n"
     ]
    }
   ],
   "source": [
    "#--------train_model_using_multinomial_naive_bayes---------\n",
    "clf= naive_bayes.MultinomialNB()   #---------Define_model----------\n",
    "clf.fit(X_train,Y_train)           #---------Train_model-----------\n",
    "Y_prediction=clf.predict_proba(X_test) #-----Perform_prediction_using_model----------\n",
    "print(Y_prediction)     #---------Predict_proba function generate probabilities."
   ]
  },
  {
   "cell_type": "code",
   "execution_count": 10,
   "metadata": {},
   "outputs": [
    {
     "name": "stdout",
     "output_type": "stream",
     "text": [
      "[['Positive class', 0.9892600765346681], ['Positive class', 0.9995900395466936], ['Positive class', 0.9951842961908288], ['Positive class', 0.9952079048038668], ['Negative class', -0.0008610901698406418], ['Positive class', 0.9918844911490926], ['Positive class', 0.9993609355289201], ['Negative class', -0.031124998224278146], ['Positive class', 0.9738239259082678], ['Positive class', 0.9750222392142058], ['Negative class', -0.02633675547308563], ['Positive class', 0.9993609355289201], ['Negative class', -0.00022205568158902012], ['Positive class', 0.9987452795348324], ['Negative class', -0.0003514998814759927], ['Positive class', 0.6104514071286966], ['Positive class', 0.9993609355289201], ['Positive class', 0.9957474230952835], ['Positive class', 0.9778558692187214], ['Negative class', -0.0004197551882906944], ['Positive class', 0.9970145028454928], ['Negative class', -0.011655881087167497], ['Positive class', 0.929649867036071], ['Positive class', 0.9750222392142058], ['Positive class', 0.972712490021537], ['Negative class', -7.710239869545642e-05], ['Neutral class', 0.4779445123916907], ['Positive class', 0.972712490021537], ['Negative class', -0.00854794990949546], ['Positive class', 0.9410873478286405], ['Positive class', 0.9857123831240221], ['Negative class', -0.44040839394865666], ['Positive class', 0.9562318204543988], ['Positive class', 0.9970145028454928], ['Negative class', -0.04394354199711369], ['Negative class', -0.0016110897862348869], ['Positive class', 0.9963429317720107], ['Negative class', -0.0003514998814759927], ['Positive class', 0.8986795724621692], ['Negative class', -0.001635649896013367], ['Positive class', 0.9750222392142058], ['Negative class', -0.0003514998814759927], ['Negative class', -0.16279486829261064], ['Positive class', 0.9950230762764144], ['Positive class', 0.9738239259082678], ['Positive class', 0.957091721998837], ['Positive class', 0.9558162199353821], ['Negative class', -0.006902980231094232], ['Positive class', 0.9993289868776731], ['Positive class', 0.957091721998837], ['Positive class', 0.8154969512790343], ['Negative class', -0.19977267491119044], ['Negative class', -0.013707653325460404], ['Positive class', 0.9941642932925415], ['Negative class', -0.013707653325460404], ['Positive class', 0.972712490021537], ['Positive class', 0.9995900395466936], ['Negative class', -0.011655881087167497], ['Positive class', 0.9558162199353821], ['Negative class', -0.00854794990949546], ['Positive class', 0.9857123831240221], ['Positive class', 0.999269892488955], ['Positive class', 0.9975043115511982], ['Positive class', 0.9738239259082678], ['Negative class', -0.006902980231094232], ['Positive class', 0.9977086954629341], ['Negative class', -0.0008610901698406418], ['Negative class', -0.00041190095573260697], ['Negative class', -0.031124998224278146], ['Positive class', 0.9840375129764751], ['Positive class', 0.9778558692187214], ['Positive class', 0.6333603852319931], ['Positive class', 0.9188585395155039], ['Negative class', -0.006902980231094232], ['Positive class', 0.9998092276195184], ['Positive class', 0.999945829092611], ['Negative class', -0.030065487756455945], ['Positive class', 0.9951842961908288], ['Positive class', 0.972712490021537], ['Positive class', 0.9892600765346681], ['Positive class', 0.9563843765923739], ['Negative class', -0.0004471145769022912], ['Positive class', 0.8826529212524942], ['Negative class', -0.011655881087167497], ['Positive class', 0.9731762971603467], ['Positive class', 0.9995900395466936], ['Positive class', 0.9738239259082678], ['Negative class', -0.030065487756455945], ['Positive class', 0.9975043115511982], ['Positive class', 0.9892600765346681], ['Negative class', -0.10007084331075548], ['Positive class', 0.9970145028454928], ['Negative class', -0.04323331105845152], ['Positive class', 0.972712490021537], ['Negative class', -0.0021163860799609433], ['Negative class', -0.031124998224278146], ['Positive class', 0.957091721998837], ['Negative class', -0.006902980231094232], ['Negative class', -0.0008610901698406418], ['Negative class', -0.03764800413535118], ['Positive class', 0.9750222392142058], ['Positive class', 0.9952079048038668], ['Negative class', -0.00854794990949546], ['Positive class', 0.972712490021537], ['Negative class', -0.29451634619925376], ['Negative class', -0.013707653325460404], ['Positive class', 0.957091721998837], ['Negative class', -0.4367580521609443], ['Positive class', 0.972712490021537], ['Positive class', 0.972712490021537], ['Negative class', -7.710239869545642e-05], ['Negative class', -0.2195123400296805], ['Positive class', 0.9995900395466936], ['Negative class', -0.031124998224278146], ['Negative class', -0.1305165066460889], ['Negative class', -0.031124998224278146], ['Negative class', -0.04686194999383856], ['Negative class', -0.013707653325460404], ['Negative class', -0.04394354199711369], ['Negative class', -0.030065487756455945], ['Positive class', 0.9941642932925415], ['Positive class', 0.9750222392142058], ['Negative class', -0.008722522654474067], ['Positive class', 0.9750222392142058], ['Positive class', 0.9998899502005895], ['Positive class', 0.9738239259082678], ['Negative class', -4.024308325279008e-06], ['Positive class', 0.9963429317720107], ['Positive class', 0.999269892488955], ['Positive class', 0.9778558692187214], ['Negative class', -0.031124998224278146], ['Negative class', -0.0004471145769022912], ['Negative class', -0.024247604898008077], ['Positive class', 0.972712490021537], ['Positive class', 0.9892600765346681], ['Positive class', 0.9750222392142058], ['Positive class', 0.9990837148886879], ['Positive class', 0.972712490021537], ['Negative class', -7.710239869545642e-05], ['Negative class', -0.00854794990949546], ['Positive class', 0.9993289868776731], ['Positive class', 0.9951842961908288], ['Positive class', 0.9952079048038668], ['Negative class', -0.002436833867141526], ['Positive class', 0.9918844911490926], ['Negative class', -0.00022205568158902012], ['Positive class', 0.9896387091996917], ['Positive class', 0.9558162199353821], ['Positive class', 0.9892600765346681], ['Positive class', 0.9738239259082678], ['Negative class', -0.05255586299477512], ['Negative class', -0.04734760550384069], ['Positive class', 0.9977086954629341], ['Positive class', 0.9999357807708821], ['Positive class', 0.6207887704718003], ['Negative class', -0.0003514998814759927], ['Positive class', 0.9970145028454928], ['Positive class', 0.9991666876509274], ['Negative class', -0.22556112417748372], ['Negative class', -4.024308325279008e-06], ['Positive class', 0.9957474230952835], ['Positive class', 0.9990837148886879], ['Negative class', -0.0021163860799609433], ['Positive class', 0.9990837148886879], ['Negative class', -0.001635649896013367], ['Positive class', 0.9957474230952835], ['Positive class', 0.9998092276195184], ['Negative class', -0.031124998224278146], ['Positive class', 0.9973829721235121], ['Negative class', -0.04323331105845152], ['Positive class', 0.9983774915643141], ['Negative class', -0.0018862508869435424], ['Positive class', 0.9970145028454928], ['Negative class', -0.013707653325460404], ['Negative class', -0.2037533013148747], ['Negative class', -0.0008610901698406418], ['Negative class', -0.036299687664015416], ['Positive class', 0.9110829169897283], ['Negative class', -0.04734760550384069], ['Negative class', -0.2736403109137249], ['Neutral class', 0.48333934514041], ['Negative class', -0.030065487756455945], ['Positive class', 0.9951842961908288], ['Negative class', -0.030065487756455945], ['Positive class', 0.9558162199353821], ['Positive class', 0.9995900395466936], ['Negative class', -0.04394354199711369], ['Positive class', 0.972712490021537], ['Negative class', -0.3799403110639758], ['Positive class', 0.9990837148886879], ['Positive class', 0.9973829721235121], ['Positive class', 0.9750222392142058], ['Negative class', -0.0003514998814759927], ['Positive class', 0.9738239259082678], ['Negative class', -4.024308325279008e-06], ['Positive class', 0.9857123831240221], ['Negative class', -0.0018862508869435424], ['Negative class', -0.002436833867141526], ['Positive class', 0.9989951487429723], ['Positive class', 0.9857123831240221], ['Negative class', -0.00041190095573260697], ['Positive class', 0.9957474230952835], ['Negative class', -0.0021163860799609433], ['Positive class', 0.999269892488955], ['Positive class', 0.972712490021537], ['Negative class', -0.013707653325460404], ['Positive class', 0.9998092276195184], ['Positive class', 0.9329304184513739], ['Positive class', 0.9724273074775723], ['Positive class', 0.9410873478286405], ['Positive class', 0.957091721998837], ['Positive class', 0.9950230762764144], ['Positive class', 0.9973829721235121], ['Positive class', 0.9991666876509274], ['Negative class', -0.1798384775569049], ['Negative class', -0.00022205568158902012], ['Positive class', 0.918398455090682], ['Positive class', 0.972712490021537], ['Positive class', 0.9778558692187214], ['Negative class', -0.013707653325460404], ['Positive class', 0.9990837148886879], ['Positive class', 0.9998899502005895], ['Positive class', 0.9952079048038668], ['Positive class', 0.9750222392142058], ['Positive class', 0.9950230762764144], ['Negative class', -0.01159161775950094], ['Negative class', -0.41670098998903843], ['Positive class', 0.972712490021537], ['Positive class', 0.972712490021537], ['Positive class', 0.9995900395466936], ['Negative class', -0.3047181499986232], ['Positive class', 0.9950230762764144], ['Positive class', 0.6072454523989348], ['Positive class', 0.9950230762764144], ['Positive class', 0.972712490021537], ['Positive class', 0.972712490021537], ['Negative class', -0.04394354199711369], ['Negative class', -0.006902980231094232], ['Positive class', 0.9636856401130967], ['Positive class', 0.972712490021537], ['Negative class', -0.00022205568158902012], ['Negative class', -0.0021163860799609433], ['Positive class', 0.9990837148886879], ['Negative class', -0.0021163860799609433], ['Negative class', -0.031124998224278146], ['Positive class', 0.9998899502005895], ['Positive class', 0.9990837148886879], ['Positive class', 0.972712490021537], ['Positive class', 0.9952079048038668], ['Positive class', 0.9918844911490926], ['Positive class', 0.9857123831240221], ['Positive class', 0.9750222392142058], ['Positive class', 0.9977086954629341], ['Positive class', 0.7089715666528464], ['Negative class', -0.02633675547308563], ['Negative class', -0.04734760550384069], ['Negative class', -0.04394354199711369], ['Negative class', -0.0008610901698406418], ['Positive class', 0.9750222392142058], ['Positive class', 0.999269892488955], ['Positive class', 0.9987452795348324], ['Positive class', 0.9963429317720107], ['Negative class', -0.04323331105845152], ['Negative class', -7.710239869545642e-05], ['Negative class', -4.024308325279008e-06], ['Negative class', -0.031124998224278146], ['Positive class', 0.9892600765346681], ['Positive class', 0.9950230762764144], ['Neutral class', 0.5160644213305404], ['Negative class', -0.00041190095573260697], ['Negative class', -0.00022205568158902012], ['Positive class', 0.9778558692187214], ['Negative class', -0.0004471145769022912], ['Positive class', 0.9977086954629341], ['Positive class', 0.972712490021537], ['Positive class', 0.9999357807708821], ['Negative class', -0.0008610901698406418], ['Positive class', 0.957091721998837], ['Negative class', -0.013707653325460404], ['Positive class', 0.9738239259082678], ['Positive class', 0.9558162199353821], ['Negative class', -0.031124998224278146], ['Positive class', 0.7390842987843328], ['Negative class', -0.2025077220683236], ['Negative class', -0.031124998224278146], ['Neutral class', 0.47997839632722455], ['Positive class', 0.7072375457757084], ['Positive class', 0.9989951487429723], ['Positive class', 0.9862704538498913], ['Positive class', 0.9951842961908288], ['Positive class', 0.9975043115511982], ['Positive class', 0.9991666876509274], ['Positive class', 0.9957474230952835], ['Positive class', 0.999945829092611], ['Positive class', 0.9410873478286405], ['Positive class', 0.9989951487429723], ['Negative class', -0.0003514998814759927], ['Negative class', -0.0016110897862348869], ['Positive class', 0.9738239259082678], ['Positive class', 0.9951842961908288], ['Positive class', 0.9563843765923739], ['Positive class', 0.9990837148886879], ['Positive class', 0.972712490021537], ['Positive class', 0.9990837148886879], ['Positive class', 0.957091721998837], ['Negative class', -0.011655881087167497], ['Negative class', -0.002436833867141526], ['Negative class', -0.02633675547308563], ['Negative class', -4.024308325279008e-06], ['Negative class', -0.030065487756455945], ['Negative class', -0.002436833867141526], ['Negative class', -0.0004471145769022912], ['Positive class', 0.999945829092611], ['Positive class', 0.9993609355289201], ['Positive class', 0.9918844911490926], ['Positive class', 0.9778558692187214], ['Positive class', 0.8097025602713105], ['Negative class', -0.031124998224278146], ['Positive class', 0.9993609355289201], ['Positive class', 0.9892600765346681], ['Neutral class', 0.5249514790531367], ['Positive class', 0.9918844911490926], ['Positive class', 0.9896387091996917], ['Negative class', -0.011655881087167497], ['Negative class', -0.006902980231094232], ['Positive class', 0.972712490021537], ['Positive class', 0.9563843765923739], ['Positive class', 0.9531043597677021], ['Positive class', 0.9953896633347192], ['Negative class', -0.0008610901698406418], ['Negative class', -0.03964282114903023], ['Positive class', 0.9750222392142058], ['Positive class', 0.9953896633347192], ['Negative class', -0.013707653325460404], ['Positive class', 0.9614331563737419], ['Positive class', 0.9951842961908288], ['Positive class', 0.9998092276195184], ['Positive class', 0.9778558692187214], ['Positive class', 0.6966237467871779], ['Negative class', -0.00854794990949546], ['Positive class', 0.999269892488955], ['Negative class', -0.00854794990949546], ['Positive class', 0.9918844911490926], ['Positive class', 0.9991666876509274], ['Positive class', 0.9738239259082678], ['Positive class', 0.9977086954629341], ['Positive class', 0.798959710149992], ['Negative class', -4.024308325279008e-06], ['Positive class', 0.8546288416913732], ['Negative class', -0.002436833867141526], ['Positive class', 0.9953896633347192], ['Positive class', 0.9957474230952835], ['Positive class', 0.9952588450256304], ['Negative class', -0.01159161775950094], ['Positive class', 0.7551297377409875], ['Negative class', -0.0018862508869435424], ['Negative class', -0.006902980231094232], ['Positive class', 0.999269892488955], ['Positive class', 0.9750222392142058], ['Positive class', 0.9857123831240221], ['Negative class', -0.03964282114903023], ['Negative class', -0.0018862508869435424], ['Negative class', -0.26776065187503506], ['Negative class', -0.04394354199711369], ['Positive class', 0.9953896633347192], ['Negative class', -0.031124998224278146], ['Negative class', -0.001635649896013367], ['Positive class', 0.9970145028454928], ['Positive class', 0.9957474230952835], ['Positive class', 0.9998092276195184], ['Positive class', 0.972712490021537], ['Positive class', 0.9892600765346681], ['Positive class', 0.9750222392142058], ['Negative class', -0.008722522654474067], ['Negative class', -0.024837534040700382], ['Negative class', -0.0021163860799609433], ['Negative class', -0.030065487756455945], ['Negative class', -0.04430223019930623], ['Negative class', -0.008722522654474067], ['Positive class', 0.9738239259082678], ['Positive class', 0.957091721998837], ['Negative class', -0.024579642538335205], ['Positive class', 0.9989951487429723], ['Negative class', -0.013707653325460404], ['Positive class', 0.9995900395466936], ['Positive class', 0.8789914547955298], ['Positive class', 0.972712490021537], ['Negative class', -0.00041190095573260697], ['Negative class', -0.001635649896013367], ['Positive class', 0.9991666876509274], ['Positive class', 0.9953896633347192], ['Negative class', -0.21970045157906812], ['Negative class', -0.15399836386345972], ['Negative class', -0.031124998224278146], ['Positive class', 0.9682668987386198], ['Negative class', -0.24774205867028679], ['Negative class', -0.031124998224278146], ['Positive class', 0.9866010677649418], ['Positive class', 0.972712490021537], ['Negative class', -0.0008610901698406418], ['Positive class', 0.9987452795348324], ['Positive class', 0.9970145028454928], ['Negative class', -0.030065487756455945], ['Negative class', -0.0003514998814759927], ['Positive class', 0.9880053337176324], ['Positive class', 0.9558162199353821], ['Positive class', 0.8499201910767834], ['Negative class', -0.0003514998814759927], ['Positive class', 0.8494965261645167], ['Positive class', 0.6814007665170101], ['Positive class', 0.5895936571011371], ['Positive class', 0.9738239259082678], ['Positive class', 0.9973829721235121], ['Positive class', 0.9998899502005895], ['Negative class', -0.04734760550384069], ['Negative class', -0.0004471145769022912], ['Positive class', 0.9896387091996917], ['Positive class', 0.9977086954629341], ['Positive class', 0.9963429317720107], ['Positive class', 0.972712490021537], ['Negative class', -0.006902980231094232], ['Negative class', -0.15238811357609555], ['Positive class', 0.9563843765923739], ['Negative class', -0.011655881087167497], ['Negative class', -0.0004197551882906944], ['Negative class', -0.030065487756455945], ['Negative class', -0.006902980231094232], ['Positive class', 0.9950230762764144], ['Positive class', 0.9750222392142058], ['Negative class', -0.21691490194864943], ['Negative class', -0.04323331105845152], ['Negative class', -0.0003514998814759927], ['Positive class', 0.9750222392142058], ['Positive class', 0.9857123831240221], ['Negative class', -0.031124998224278146], ['Positive class', 0.978968031545355], ['Negative class', -0.03764800413535118], ['Neutral class', 0.4620969128850594], ['Negative class', -0.0003514998814759927], ['Positive class', 0.972712490021537], ['Positive class', 0.7419326194784139], ['Positive class', 0.9950230762764144], ['Negative class', -0.013707653325460404], ['Negative class', -0.2349995478681228], ['Positive class', 0.9957474230952835], ['Negative class', -7.710239869545642e-05], ['Negative class', -0.0016110897862348869], ['Negative class', -0.00022205568158902012], ['Negative class', -0.03783065125182416], ['Negative class', -0.18920404934552557], ['Positive class', 0.819891330865825], ['Positive class', 0.9987452795348324], ['Negative class', -4.024308325279008e-06], ['Neutral class', 0.5086789728845803], ['Negative class', -0.031124998224278146], ['Negative class', -0.00041190095573260697], ['Positive class', 0.9738239259082678], ['Positive class', 0.999269892488955], ['Positive class', 0.972712490021537], ['Positive class', 0.9975043115511982], ['Positive class', 0.9558162199353821], ['Positive class', 0.9750222392142058], ['Positive class', 0.999945829092611], ['Positive class', 0.9738239259082678], ['Positive class', 0.972712490021537], ['Positive class', 0.9993609355289201], ['Negative class', -0.00041190095573260697], ['Positive class', 0.9998899502005895], ['Positive class', 0.9993609355289201], ['Positive class', 0.9993289868776731], ['Negative class', -7.710239869545642e-05], ['Negative class', -7.710239869545642e-05], ['Positive class', 0.8313437000405594], ['Negative class', -0.0021163860799609433], ['Positive class', 0.999269892488955], ['Positive class', 0.9750222392142058], ['Positive class', 0.9957474230952835], ['Positive class', 0.9987452795348324], ['Positive class', 0.9638589375425328], ['Negative class', -0.013707653325460404], ['Positive class', 0.9970145028454928], ['Negative class', -0.001635649896013367], ['Negative class', -0.03726343389802573], ['Positive class', 0.9410873478286405], ['Positive class', 0.999269892488955], ['Positive class', 0.9738239259082678], ['Negative class', -0.03783065125182416], ['Negative class', -0.0004197551882906944], ['Negative class', -0.0004471145769022912], ['Positive class', 0.9993609355289201], ['Positive class', 0.972712490021537], ['Positive class', 0.9941642932925415], ['Positive class', 0.9892600765346681], ['Positive class', 0.9953896633347192], ['Neutral class', 0.5498558141428022], ['Positive class', 0.9918844911490926], ['Positive class', 0.9952079048038668], ['Positive class', 0.9993289868776731], ['Positive class', 0.9952079048038668], ['Negative class', -0.0004471145769022912], ['Positive class', 0.9410873478286405], ['Positive class', 0.9857123831240221], ['Negative class', -0.09158705987549473], ['Positive class', 0.9953896633347192], ['Positive class', 0.9998092276195184], ['Negative class', -0.0018862508869435424], ['Negative class', -0.006902980231094232], ['Positive class', 0.9977086954629341], ['Positive class', 0.9132433656675154], ['Negative class', -0.013707653325460404], ['Positive class', 0.9558162199353821], ['Negative class', -0.02633675547308563], ['Positive class', 0.972712490021537], ['Positive class', 0.9995900395466936], ['Negative class', -0.0004197551882906944], ['Negative class', -0.008722522654474067], ['Negative class', -0.03783065125182416], ['Neutral class', 0.5080496846095196], ['Positive class', 0.9563843765923739], ['Negative class', -0.013707653325460404], ['Positive class', 0.9941642932925415], ['Negative class', -0.03964282114903023], ['Positive class', 0.9750222392142058], ['Negative class', -0.29850618333588913], ['Positive class', 0.972712490021537], ['Positive class', 0.999945829092611], ['Negative class', -0.21112137711384626], ['Positive class', 0.9987452795348324], ['Positive class', 0.9869298227649004], ['Positive class', 0.6764812670613344], ['Positive class', 0.9857123831240221], ['Positive class', 0.972712490021537], ['Negative class', -0.0016110897862348869], ['Positive class', 0.999269892488955], ['Positive class', 0.9998092276195184], ['Negative class', -0.013707653325460404], ['Positive class', 0.9998899502005895], ['Positive class', 0.9750222392142058], ['Positive class', 0.9999357807708821], ['Negative class', -0.00041190095573260697], ['Positive class', 0.9750222392142058], ['Negative class', -0.031124998224278146], ['Negative class', -0.03764800413535118], ['Positive class', 0.9973829721235121], ['Positive class', 0.9987452795348324], ['Positive class', 0.9987452795348324], ['Positive class', 0.9941642932925415], ['Positive class', 0.9558162199353821], ['Negative class', -0.013707653325460404], ['Negative class', -0.013707653325460404], ['Positive class', 0.9882439005434664], ['Positive class', 0.9990837148886879], ['Positive class', 0.9892600765346681], ['Negative class', -0.030065487756455945], ['Negative class', -0.0003514998814759927], ['Positive class', 0.9995900395466936], ['Positive class', 0.9778558692187214], ['Positive class', 0.999945829092611], ['Positive class', 0.9039842441390397], ['Positive class', 0.957091721998837], ['Positive class', 0.9970145028454928], ['Positive class', 0.972712490021537], ['Positive class', 0.9993289868776731], ['Positive class', 0.9952079048038668], ['Negative class', -0.02633675547308563], ['Positive class', 0.9558162199353821], ['Positive class', 0.9778558692187214], ['Negative class', -0.013707653325460404], ['Negative class', -0.0004471145769022912], ['Negative class', -0.031124998224278146], ['Positive class', 0.9750222392142058], ['Negative class', -0.0004471145769022912], ['Positive class', 0.9918844911490926], ['Positive class', 0.972712490021537], ['Positive class', 0.9998899502005895], ['Negative class', -0.01159161775950094], ['Positive class', 0.9983774915643141], ['Negative class', -0.013707653325460404], ['Positive class', 0.9983774915643141], ['Positive class', 0.972712490021537], ['Positive class', 0.9750222392142058], ['Positive class', 0.9918844911490926], ['Positive class', 0.999945829092611], ['Negative class', -0.008722522654474067], ['Negative class', -0.001635649896013367], ['Positive class', 0.9750222392142058], ['Positive class', 0.9738239259082678], ['Positive class', 0.9857123831240221], ['Positive class', 0.7956809490467184], ['Positive class', 0.9778558692187214], ['Positive class', 0.9977086954629341], ['Positive class', 0.9983774915643141], ['Negative class', -0.0004471145769022912], ['Positive class', 0.9892600765346681], ['Negative class', -0.03964282114903023], ['Positive class', 0.9941642932925415], ['Positive class', 0.9987452795348324], ['Positive class', 0.9896387091996917], ['Positive class', 0.9975043115511982], ['Positive class', 0.9999357807708821], ['Negative class', -0.002436833867141526], ['Positive class', 0.9410873478286405], ['Negative class', -0.008722522654474067], ['Positive class', 0.9558162199353821], ['Positive class', 0.9563843765923739], ['Positive class', 0.999269892488955], ['Positive class', 0.9951842961908288], ['Positive class', 0.9993289868776731], ['Positive class', 0.7575026078707469], ['Negative class', -0.00041190095573260697], ['Positive class', 0.999269892488955], ['Positive class', 0.9975043115511982], ['Positive class', 0.9999357807708821], ['Negative class', -0.001635649896013367], ['Negative class', -0.001635649896013367], ['Positive class', 0.8002709560674695], ['Positive class', 0.972712490021537], ['Positive class', 0.9953896633347192], ['Negative class', -0.0016110897862348869], ['Negative class', -0.008722522654474067], ['Negative class', -0.0008610901698406418], ['Positive class', 0.9558162199353821], ['Positive class', 0.957091721998837], ['Positive class', 0.9950230762764144], ['Positive class', 0.9750222392142058], ['Positive class', 0.9963429317720107], ['Positive class', 0.972712490021537], ['Positive class', 0.9999357807708821], ['Positive class', 0.749706117602277], ['Negative class', -0.011655881087167497], ['Negative class', -0.0003514998814759927], ['Negative class', -0.0003514998814759927], ['Positive class', 0.8431677890435814], ['Positive class', 0.9918844911490926], ['Positive class', 0.9989951487429723], ['Negative class', -0.031124998224278146], ['Negative class', -0.04394354199711369], ['Negative class', -0.02633675547308563], ['Negative class', -0.0018862508869435424], ['Positive class', 0.9118205232109192], ['Positive class', 0.9989951487429723], ['Positive class', 0.9941642932925415], ['Negative class', -0.04430223019930623], ['Positive class', 0.9750222392142058], ['Positive class', 0.9998899502005895], ['Negative class', -0.008722522654474067], ['Negative class', -0.04394354199711369], ['Positive class', 0.9979572026402143], ['Negative class', -0.0004471145769022912], ['Negative class', -0.04394354199711369], ['Positive class', 0.9990837148886879], ['Positive class', 0.9991666876509274], ['Positive class', 0.9957474230952835], ['Negative class', -0.21973774490328168], ['Negative class', -0.0004197551882906944], ['Negative class', -0.03783065125182416], ['Positive class', 0.9993609355289201], ['Positive class', 0.9987452795348324], ['Positive class', 0.9918844911490926], ['Positive class', 0.9951842961908288], ['Positive class', 0.9750222392142058], ['Negative class', -0.01159161775950094], ['Negative class', -0.031124998224278146], ['Positive class', 0.7453752849144705], ['Positive class', 0.9896387091996917], ['Positive class', 0.9993609355289201], ['Negative class', -0.04394354199711369], ['Negative class', -0.001635649896013367], ['Positive class', 0.8784786395307387], ['Negative class', -4.024308325279008e-06], ['Positive class', 0.9738239259082678], ['Negative class', -0.04394354199711369], ['Positive class', 0.9849864780153605], ['Positive class', 0.9986610666110939], ['Positive class', 0.9596896571005521], ['Positive class', 0.8858397852475419], ['Negative class', -0.190904392645077], ['Negative class', -0.031124998224278146], ['Negative class', -0.03783065125182416], ['Negative class', -0.00854794990949546], ['Negative class', -0.030065487756455945], ['Positive class', 0.9953896633347192], ['Negative class', -0.013707653325460404], ['Negative class', -0.006902980231094232], ['Positive class', 0.999945829092611], ['Negative class', -0.00854794990949546], ['Negative class', -0.04394354199711369], ['Negative class', -0.01159161775950094], ['Positive class', 0.9977086954629341], ['Positive class', 0.972712490021537], ['Negative class', -7.710239869545642e-05], ['Positive class', 0.9724273074775723], ['Positive class', 0.9995900395466936], ['Positive class', 0.9778558692187214], ['Negative class', -0.0004197551882906944], ['Positive class', 0.9963429317720107], ['Negative class', -0.04323331105845152], ['Positive class', 0.9738239259082678], ['Positive class', 0.9952079048038668], ['Negative class', -0.03792083059269441], ['Negative class', -0.013707653325460404], ['Positive class', 0.9750222392142058], ['Neutral class', 0.4620969128850594], ['Negative class', -0.031124998224278146], ['Negative class', -7.710239869545642e-05], ['Negative class', -0.03686127714254401], ['Positive class', 0.9993609355289201], ['Negative class', -0.00854794990949546], ['Negative class', -0.01159161775950094], ['Positive class', 0.7523898807174025], ['Positive class', 0.9998092276195184], ['Negative class', -0.006902980231094232], ['Neutral class', 0.502502067368946], ['Negative class', -4.024308325279008e-06], ['Positive class', 0.9998092276195184], ['Negative class', -0.00022205568158902012], ['Positive class', 0.9970145028454928], ['Positive class', 0.9953896633347192], ['Negative class', -0.0016110897862348869], ['Positive class', 0.9973829721235121], ['Positive class', 0.863828118049147], ['Positive class', 0.972712490021537], ['Positive class', 0.9941642932925415], ['Positive class', 0.9558162199353821], ['Positive class', 0.9998092276195184], ['Positive class', 0.9952588450256304], ['Negative class', -0.031124998224278146], ['Negative class', -0.031124998224278146], ['Negative class', -4.024308325279008e-06], ['Positive class', 0.9952079048038668], ['Negative class', -0.002436833867141526], ['Positive class', 0.8766792741519874], ['Positive class', 0.999269892488955], ['Negative class', -0.00854794990949546], ['Positive class', 0.9995900395466936], ['Positive class', 0.811749451885201], ['Positive class', 0.9941642932925415], ['Negative class', -0.0018862508869435424], ['Positive class', 0.9998092276195184], ['Positive class', 0.9993289868776731], ['Negative class', -0.0003514998814759927], ['Positive class', 0.9995900395466936], ['Negative class', -0.031124998224278146], ['Negative class', -0.01159161775950094], ['Negative class', -0.0018862508869435424], ['Positive class', 0.9558162199353821], ['Negative class', -0.41098838051524983], ['Positive class', 0.9999357807708821], ['Neutral class', 0.5435603125630901], ['Positive class', 0.9995900395466936], ['Positive class', 0.9977086954629341], ['Positive class', 0.9970145028454928], ['Negative class', -0.0021163860799609433], ['Neutral class', 0.4577084045632101], ['Positive class', 0.9187428147924338], ['Positive class', 0.9750222392142058], ['Negative class', -0.013707653325460404], ['Positive class', 0.7458219111437472], ['Negative class', -0.24924998217631208], ['Positive class', 0.9991666876509274], ['Negative class', -0.3639598426243092], ['Positive class', 0.972712490021537], ['Negative class', -0.173497934954381], ['Positive class', 0.9724273074775723], ['Positive class', 0.9977086954629341], ['Negative class', -0.13547817685017116], ['Negative class', -0.013707653325460404], ['Positive class', 0.9778558692187214], ['Negative class', -0.001635649896013367], ['Negative class', -0.00041190095573260697], ['Positive class', 0.9970145028454928], ['Negative class', -0.00041190095573260697], ['Negative class', -0.04734760550384069], ['Positive class', 0.9892600765346681], ['Positive class', 0.9950230762764144], ['Negative class', -0.0008610901698406418], ['Positive class', 0.9953896633347192], ['Positive class', 0.972712490021537], ['Positive class', 0.9857123831240221], ['Positive class', 0.9950230762764144], ['Negative class', -0.04323331105845152], ['Positive class', 0.9738239259082678], ['Positive class', 0.9998899502005895], ['Negative class', -0.008722522654474067], ['Positive class', 0.9750222392142058], ['Positive class', 0.7120950732555156], ['Positive class', 0.9941642932925415], ['Positive class', 0.9778558692187214], ['Positive class', 0.9952079048038668], ['Negative class', -7.710239869545642e-05], ['Positive class', 0.9750222392142058], ['Negative class', -0.05105136749910415], ['Negative class', -0.04323331105845152], ['Positive class', 0.9995900395466936], ['Positive class', 0.9596072585407085], ['Positive class', 0.9778558692187214], ['Negative class', -0.03596278637211444], ['Negative class', -0.02633675547308563], ['Negative class', -0.011655881087167497], ['Neutral class', 0.5201325593666903], ['Positive class', 0.957091721998837], ['Negative class', -0.00041190095573260697], ['Positive class', 0.972712490021537], ['Positive class', 0.9999357807708821], ['Positive class', 0.957091721998837], ['Positive class', 0.9987452795348324], ['Positive class', 0.9995900395466936], ['Positive class', 0.9989951487429723], ['Negative class', -0.001635649896013367], ['Negative class', -0.04394354199711369], ['Negative class', -0.013707653325460404], ['Positive class', 0.972712490021537], ['Positive class', 0.999269892488955], ['Negative class', -4.024308325279008e-06], ['Positive class', 0.9890218307465312], ['Negative class', -0.03783065125182416], ['Positive class', 0.9857123831240221], ['Negative class', -0.006902980231094232], ['Positive class', 0.9892600765346681], ['Negative class', -0.031124998224278146], ['Negative class', -0.3698005231983736], ['Positive class', 0.8167562029692231], ['Positive class', 0.9750222392142058], ['Negative class', -0.030065487756455945], ['Positive class', 0.8800443996015425], ['Positive class', 0.9563843765923739], ['Positive class', 0.9998899502005895], ['Negative class', -0.04734760550384069], ['Positive class', 0.9975043115511982], ['Negative class', -0.00854794990949546], ['Negative class', -0.00022205568158902012], ['Positive class', 0.9998899502005895], ['Negative class', -0.0004197551882906944], ['Negative class', -0.0004197551882906944], ['Negative class', -0.02633675547308563], ['Positive class', 0.9957474230952835], ['Positive class', 0.9558162199353821], ['Positive class', 0.9738239259082678], ['Positive class', 0.9953896633347192], ['Negative class', -0.21475831404130202], ['Positive class', 0.9987452795348324], ['Positive class', 0.7091703805640073], ['Positive class', 0.9995900395466936], ['Positive class', 0.9999357807708821], ['Positive class', 0.9987452795348324], ['Positive class', 0.9543721969189168], ['Positive class', 0.9987452795348324], ['Positive class', 0.9993289868776731], ['Negative class', -0.0004471145769022912], ['Positive class', 0.9957474230952835], ['Positive class', 0.9750222392142058], ['Negative class', -0.0003514998814759927], ['Positive class', 0.972712490021537], ['Positive class', 0.9951842961908288], ['Positive class', 0.972712490021537], ['Negative class', -0.006902980231094232], ['Positive class', 0.9977086954629341], ['Negative class', -0.00854794990949546], ['Positive class', 0.9738239259082678], ['Negative class', -0.031124998224278146], ['Negative class', -0.002436833867141526], ['Negative class', -0.031124998224278146], ['Negative class', -0.01159161775950094], ['Positive class', 0.9880053337176324], ['Negative class', -0.0004197551882906944], ['Positive class', 0.9750222392142058], ['Negative class', -0.03964282114903023], ['Positive class', 0.9991666876509274], ['Positive class', 0.9987452795348324], ['Positive class', 0.9738239259082678], ['Positive class', 0.9963429317720107], ['Positive class', 0.9993289868776731], ['Positive class', 0.9963429317720107], ['Positive class', 0.9950230762764144], ['Positive class', 0.9999357807708821], ['Negative class', -0.00854794990949546], ['Positive class', 0.9399399031065078], ['Negative class', -0.13272124451136594], ['Negative class', -0.0004197551882906944], ['Positive class', 0.9952079048038668], ['Positive class', 0.957091721998837], ['Positive class', 0.9952079048038668], ['Positive class', 0.9991666876509274], ['Positive class', 0.9998899502005895], ['Positive class', 0.9970145028454928], ['Positive class', 0.7954358157326202], ['Positive class', 0.9995900395466936], ['Positive class', 0.9738239259082678], ['Positive class', 0.9918844911490926], ['Positive class', 0.9950230762764144], ['Positive class', 0.972712490021537], ['Negative class', -0.01159161775950094], ['Positive class', 0.7598248679294712], ['Positive class', 0.9941642932925415], ['Positive class', 0.9998899502005895], ['Positive class', 0.9750222392142058], ['Negative class', -0.00854794990949546], ['Negative class', -0.0003514998814759927], ['Positive class', 0.9991666876509274], ['Negative class', -0.031124998224278146], ['Positive class', 0.9973829721235121], ['Positive class', 0.9990837148886879], ['Positive class', 0.9857123831240221], ['Negative class', -0.04734760550384069], ['Positive class', 0.9750222392142058], ['Positive class', 0.9558162199353821], ['Positive class', 0.9990837148886879], ['Positive class', 0.9952079048038668], ['Positive class', 0.9970145028454928], ['Negative class', -0.03783065125182416], ['Positive class', 0.7110016097451536], ['Negative class', -7.710239869545642e-05], ['Positive class', 0.9998899502005895], ['Positive class', 0.9957474230952835], ['Negative class', -0.00022205568158902012], ['Negative class', -0.00022205568158902012], ['Positive class', 0.9990837148886879], ['Negative class', -0.0018862508869435424], ['Negative class', -0.0004197551882906944], ['Positive class', 0.9990837148886879], ['Positive class', 0.9952079048038668], ['Positive class', 0.972712490021537], ['Positive class', 0.999945829092611], ['Positive class', 0.9973829721235121], ['Positive class', 0.972712490021537], ['Positive class', 0.9953896633347192], ['Positive class', 0.9738239259082678], ['Negative class', -0.031124998224278146], ['Negative class', -0.031124998224278146], ['Positive class', 0.978968031545355], ['Negative class', -0.0018862508869435424], ['Positive class', 0.9995900395466936], ['Positive class', 0.9957474230952835], ['Positive class', 0.972712490021537], ['Positive class', 0.999945829092611], ['Negative class', -0.011655881087167497], ['Positive class', 0.8471858611861504], ['Negative class', -0.031124998224278146], ['Negative class', -0.002436833867141526], ['Positive class', 0.972712490021537], ['Negative class', -0.03964282114903023], ['Negative class', -0.002436833867141526], ['Positive class', 0.9998899502005895], ['Positive class', 0.8381640839422557], ['Positive class', 0.7648965667238319], ['Negative class', -0.00022205568158902012], ['Negative class', -0.0003514998814759927], ['Positive class', 0.9941642932925415], ['Negative class', -4.024308325279008e-06], ['Negative class', -0.00854794990949546], ['Positive class', 0.9918844911490926], ['Positive class', 0.8452969949302168], ['Positive class', 0.9953896633347192], ['Positive class', 0.9558162199353821], ['Negative class', -0.006902980231094232], ['Positive class', 0.9987452795348324], ['Negative class', -0.0004471145769022912], ['Positive class', 0.957091721998837], ['Positive class', 0.9971788655839509], ['Negative class', -0.001635649896013367], ['Positive class', 0.9941642932925415], ['Positive class', 0.9957474230952835], ['Negative class', -0.013707653325460404], ['Negative class', -0.19581740163007555], ['Negative class', -0.0004471145769022912], ['Positive class', 0.9987452795348324], ['Positive class', 0.999945829092611], ['Negative class', -4.024308325279008e-06], ['Positive class', 0.9975043115511982], ['Negative class', -0.0018862508869435424], ['Positive class', 0.9987452795348324], ['Positive class', 0.7803325173638939], ['Positive class', 0.9989951487429723], ['Positive class', 0.9750222392142058], ['Negative class', -0.031124998224278146], ['Positive class', 0.9950230762764144], ['Negative class', -0.33597262350530765], ['Positive class', 0.9750222392142058], ['Negative class', -0.006902980231094232], ['Positive class', 0.8085302842102922], ['Positive class', 0.7124843157293739], ['Positive class', 0.9970145028454928], ['Positive class', 0.972712490021537], ['Positive class', 0.9995900395466936], ['Positive class', 0.9410873478286405], ['Negative class', -0.0018862508869435424], ['Negative class', -0.0021163860799609433], ['Negative class', -0.00022205568158902012], ['Negative class', -0.002436833867141526], ['Negative class', -0.0016110897862348869], ['Positive class', 0.8615299709508901], ['Negative class', -0.04323331105845152], ['Negative class', -0.006902980231094232], ['Positive class', 0.9975043115511982], ['Negative class', -0.0016110897862348869], ['Negative class', -0.04394354199711369], ['Positive class', 0.9563843765923739], ['Positive class', 0.9750222392142058], ['Positive class', 0.9563843765923739], ['Positive class', 0.9952079048038668], ['Positive class', 0.9750222392142058], ['Positive class', 0.999945829092611], ['Positive class', 0.9952079048038668], ['Neutral class', 0.5125196287010533], ['Negative class', -0.0004197551882906944], ['Positive class', 0.9993289868776731], ['Positive class', 0.9918844911490926], ['Negative class', -0.0021163860799609433], ['Negative class', -0.0016110897862348869], ['Positive class', 0.9558162199353821], ['Positive class', 0.9950230762764144], ['Negative class', -0.11053948224759527], ['Positive class', 0.9563843765923739], ['Negative class', -0.190904392645077], ['Positive class', 0.9951842961908288], ['Negative class', -0.03964282114903023], ['Negative class', -0.04323331105845152], ['Positive class', 0.9778558692187214], ['Positive class', 0.9999357807708821], ['Negative class', -0.008722522654474067], ['Positive class', 0.972712490021537], ['Positive class', 0.9750222392142058], ['Positive class', 0.9410873478286405], ['Positive class', 0.9918844911490926], ['Negative class', -0.03964282114903023], ['Positive class', 0.7390842987843328], ['Negative class', -0.00854794990949546], ['Negative class', -0.024247604898008077], ['Negative class', -0.030065487756455945], ['Negative class', -0.006902980231094232], ['Negative class', -0.3004117215486081], ['Positive class', 0.957091721998837], ['Negative class', -0.040259878801294564], ['Negative class', -0.1359080345310544], ['Negative class', -7.710239869545642e-05], ['Negative class', -0.00041190095573260697], ['Positive class', 0.9918844911490926], ['Positive class', 0.9410873478286405], ['Negative class', -0.030065487756455945], ['Positive class', 0.9977086954629341], ['Negative class', -0.013707653325460404], ['Positive class', 0.8445042481930097], ['Positive class', 0.9993609355289201], ['Positive class', 0.9543721969189168], ['Positive class', 0.9998092276195184], ['Negative class', -0.008722522654474067], ['Negative class', -0.04394354199711369], ['Negative class', -0.031124998224278146], ['Positive class', 0.9970145028454928], ['Positive class', 0.6439849903640296], ['Positive class', 0.9558162199353821], ['Positive class', 0.9750222392142058], ['Positive class', 0.9977086954629341], ['Negative class', -0.002436833867141526], ['Positive class', 0.9991666876509274], ['Positive class', 0.8128065717924549], ['Positive class', 0.999269892488955], ['Positive class', 0.9951842961908288], ['Negative class', -0.030065487756455945], ['Negative class', -0.22929912689775506], ['Positive class', 0.9977086954629341], ['Positive class', 0.9918844911490926], ['Negative class', -0.0008610901698406418], ['Positive class', 0.9918844911490926], ['Negative class', -0.03783065125182416], ['Negative class', -0.07335382601239072], ['Negative class', -7.710239869545642e-05], ['Positive class', 0.9957474230952835], ['Positive class', 0.9857123831240221], ['Positive class', 0.9738239259082678], ['Negative class', -7.710239869545642e-05], ['Negative class', -0.008722522654474067], ['Neutral class', 0.4693835174466127], ['Negative class', -0.0021163860799609433], ['Positive class', 0.9998092276195184], ['Positive class', 0.9558162199353821], ['Positive class', 0.9951842961908288], ['Positive class', 0.9918844911490926], ['Negative class', -0.0003514998814759927], ['Negative class', -0.0021163860799609433], ['Positive class', 0.9558162199353821], ['Negative class', -0.030065487756455945], ['Negative class', -0.013707653325460404], ['Negative class', -0.0016110897862348869], ['Positive class', 0.9950230762764144], ['Negative class', -0.04734760550384069], ['Negative class', -0.008722522654474067], ['Positive class', 0.9952079048038668], ['Positive class', 0.9951842961908288], ['Negative class', -0.00022205568158902012], ['Positive class', 0.9950230762764144], ['Positive class', 0.9750222392142058], ['Negative class', -0.0021163860799609433], ['Positive class', 0.9892600765346681], ['Negative class', -0.04394354199711369], ['Positive class', 0.9953896633347192], ['Neutral class', 0.502486177744011], ['Negative class', -0.0004197551882906944], ['Negative class', -0.03964282114903023], ['Negative class', -4.024308325279008e-06], ['Positive class', 0.999945829092611], ['Positive class', 0.9558162199353821], ['Positive class', 0.972712490021537], ['Negative class', -0.008722522654474067], ['Negative class', -0.01159161775950094], ['Positive class', 0.9998899502005895], ['Negative class', -0.006902980231094232], ['Negative class', -0.03596278637211444], ['Negative class', -0.006902980231094232], ['Positive class', 0.9973829721235121], ['Negative class', -0.011655881087167497], ['Positive class', 0.7781071485741826], ['Negative class', -0.0018862508869435424], ['Positive class', 0.9952079048038668], ['Negative class', -0.031124998224278146], ['Positive class', 0.9973829721235121], ['Positive class', 0.6216627075930826], ['Negative class', -0.031124998224278146], ['Negative class', -0.0018862508869435424], ['Positive class', 0.9993289868776731], ['Negative class', -0.013707653325460404], ['Negative class', -0.008722522654474067], ['Positive class', 0.9975043115511982], ['Negative class', -0.04323331105845152], ['Positive class', 0.9990837148886879], ['Positive class', 0.9733670593586576], ['Positive class', 0.9951842961908288], ['Positive class', 0.9558162199353821], ['Negative class', -0.031124998224278146], ['Positive class', 0.9750222392142058], ['Positive class', 0.9896387091996917], ['Negative class', -0.03584239038612523], ['Negative class', -0.011655881087167497], ['Positive class', 0.9750222392142058], ['Positive class', 0.5670375535445685], ['Positive class', 0.9410873478286405], ['Negative class', -0.001635649896013367], ['Negative class', -0.0021163860799609433], ['Negative class', -7.710239869545642e-05], ['Positive class', 0.9993289868776731], ['Negative class', -0.0008610901698406418], ['Negative class', -0.1058903468271092], ['Negative class', -0.00022205568158902012], ['Positive class', 0.9993609355289201], ['Positive class', 0.8554287905388401], ['Positive class', 0.9558162199353821], ['Positive class', 0.999945829092611], ['Positive class', 0.9896387091996917], ['Positive class', 0.957091721998837], ['Negative class', -0.0003514998814759927], ['Positive class', 0.9999357807708821], ['Positive class', 0.9750222392142058], ['Positive class', 0.8803628004985535], ['Positive class', 0.972712490021537], ['Positive class', 0.9986398292643338], ['Positive class', 0.9999357807708821], ['Positive class', 0.9963429317720107], ['Negative class', -0.04734760550384069], ['Negative class', -0.13657242389252647], ['Negative class', -4.024308325279008e-06], ['Positive class', 0.9941642932925415], ['Positive class', 0.9738239259082678], ['Negative class', -0.04734760550384069], ['Positive class', 0.999269892488955], ['Positive class', 0.9952079048038668], ['Negative class', -0.0004471145769022912], ['Negative class', -0.12641688791307631], ['Negative class', -0.03783065125182416], ['Negative class', -0.03596278637211444], ['Positive class', 0.9857123831240221], ['Negative class', -0.002436833867141526], ['Positive class', 0.9750222392142058], ['Positive class', 0.9998899502005895], ['Negative class', -0.03964282114903023], ['Negative class', -0.008722522654474067], ['Positive class', 0.972712490021537], ['Positive class', 0.9953896633347192], ['Positive class', 0.9750222392142058], ['Positive class', 0.840390447145146], ['Positive class', 0.9750222392142058], ['Positive class', 0.9857123831240221], ['Positive class', 0.9951842961908288], ['Positive class', 0.9896387091996917], ['Positive class', 0.9918844911490926], ['Positive class', 0.9896387091996917], ['Positive class', 0.9738239259082678], ['Negative class', -0.02633675547308563], ['Positive class', 0.9750222392142058], ['Positive class', 0.9896387091996917], ['Positive class', 0.9953896633347192], ['Positive class', 0.9778558692187214], ['Positive class', 0.9778558692187214], ['Negative class', -0.05105136749910415], ['Negative class', -0.031124998224278146], ['Positive class', 0.9987452795348324], ['Positive class', 0.9738239259082678], ['Positive class', 0.9951842961908288], ['Positive class', 0.9410873478286405], ['Positive class', 0.9990837148886879], ['Negative class', -0.03783065125182416], ['Positive class', 0.972712490021537], ['Negative class', -0.00022205568158902012], ['Negative class', -0.044753761228497335], ['Negative class', -0.22349597603002058], ['Positive class', 0.9977086954629341], ['Positive class', 0.9778558692187214], ['Positive class', 0.9778558692187214], ['Negative class', -0.2942594774264647], ['Negative class', -0.011655881087167497], ['Negative class', -0.0008610901698406418], ['Positive class', 0.8729680282190564], ['Negative class', -0.07766908591985873], ['Negative class', -0.02633675547308563], ['Negative class', -0.00022205568158902012], ['Negative class', -0.03964282114903023], ['Positive class', 0.9995900395466936], ['Positive class', 0.980989237731039], ['Positive class', 0.9991666876509274], ['Positive class', 0.9950230762764144], ['Negative class', -0.002436833867141526], ['Positive class', 0.9002206272296978], ['Positive class', 0.9973829721235121], ['Positive class', 0.9998092276195184], ['Negative class', -0.00041190095573260697], ['Neutral class', 0.48509068121521265], ['Positive class', 0.9998899502005895], ['Negative class', -0.04394354199711369], ['Positive class', 0.9896387091996917], ['Negative class', -0.031124998224278146], ['Negative class', -0.04323331105845152], ['Positive class', 0.9973829721235121], ['Positive class', 0.9750222392142058], ['Positive class', 0.9738239259082678], ['Positive class', 0.9993609355289201], ['Negative class', -0.00854794990949546], ['Negative class', -0.001635649896013367], ['Neutral class', 0.46644345872978177], ['Positive class', 0.7592260896079727], ['Positive class', 0.999945829092611], ['Positive class', 0.9993609355289201], ['Negative class', -0.12194699446103971], ['Negative class', -0.0003514998814759927], ['Positive class', 0.9738239259082678], ['Negative class', -0.01159161775950094], ['Positive class', 0.9973829721235121], ['Positive class', 0.9963429317720107], ['Negative class', -0.031124998224278146], ['Positive class', 0.999269892488955], ['Negative class', -0.03964282114903023], ['Negative class', -0.03596278637211444], ['Negative class', -0.02633675547308563], ['Negative class', -0.03783065125182416], ['Positive class', 0.9973993627126777], ['Negative class', -0.0004197551882906944], ['Negative class', -0.001635649896013367], ['Negative class', -0.01159161775950094], ['Positive class', 0.9750222392142058], ['Positive class', 0.9558162199353821], ['Negative class', -0.008722522654474067], ['Positive class', 0.9750222392142058], ['Positive class', 0.9970145028454928], ['Negative class', -0.031124998224278146], ['Negative class', -0.006902980231094232], ['Negative class', -0.055448100085452916], ['Negative class', -0.04734760550384069], ['Negative class', -0.0021163860799609433], ['Positive class', 0.9372646414875664], ['Negative class', -0.011655881087167497], ['Negative class', -0.001635649896013367], ['Positive class', 0.8314230636634875], ['Positive class', 0.9953896633347192], ['Negative class', -0.00041190095573260697], ['Negative class', -0.031124998224278146], ['Positive class', 0.9953896633347192], ['Negative class', -0.01159161775950094], ['Positive class', 0.9896387091996917], ['Negative class', -0.031124998224278146], ['Positive class', 0.9892600765346681], ['Negative class', -0.0016110897862348869], ['Positive class', 0.9778558692187214], ['Positive class', 0.9941642932925415], ['Positive class', 0.9013858303630764], ['Positive class', 0.9892600765346681], ['Positive class', 0.972712490021537], ['Positive class', 0.9950230762764144], ['Negative class', -0.00022205568158902012], ['Negative class', -0.03964282114903023], ['Negative class', -0.0018862508869435424], ['Positive class', 0.9991666876509274], ['Positive class', 0.9750222392142058], ['Positive class', 0.9738239259082678], ['Positive class', 0.9410873478286405], ['Negative class', -0.01159161775950094], ['Positive class', 0.9952079048038668], ['Positive class', 0.9738239259082678], ['Positive class', 0.846199153098248], ['Positive class', 0.9995900395466936], ['Positive class', 0.9857123831240221], ['Positive class', 0.9941642932925415], ['Neutral class', 0.5253694218580903], ['Positive class', 0.9896387091996917], ['Negative class', -0.04734760550384069], ['Positive class', 0.9896387091996917], ['Negative class', -0.0021163860799609433], ['Positive class', 0.9995900395466936], ['Positive class', 0.9750222392142058], ['Negative class', -0.0008610901698406418], ['Negative class', -0.0021163860799609433], ['Negative class', -0.0004471145769022912], ['Negative class', -7.710239869545642e-05], ['Positive class', 0.9750222392142058], ['Negative class', -0.00854794990949546], ['Negative class', -0.0003514998814759927], ['Positive class', 0.9738239259082678], ['Positive class', 0.9998092276195184], ['Negative class', -0.013707653325460404], ['Positive class', 0.9987452795348324], ['Negative class', -7.710239869545642e-05], ['Negative class', -0.29173630972867426], ['Positive class', 0.9558162199353821], ['Positive class', 0.972712490021537], ['Positive class', 0.8961937154965998], ['Positive class', 0.9724273074775723], ['Negative class', -0.03964282114903023], ['Positive class', 0.9750222392142058], ['Negative class', -0.03596278637211444], ['Negative class', -0.031124998224278146], ['Positive class', 0.8028768987208945], ['Positive class', 0.9991666876509274], ['Negative class', -0.04323331105845152], ['Positive class', 0.972712490021537], ['Positive class', 0.9563843765923739], ['Positive class', 0.9950230762764144], ['Negative class', -0.3074430490845585], ['Negative class', -0.008722522654474067], ['Positive class', 0.9991666876509274], ['Negative class', -0.0008610901698406418], ['Negative class', -0.030065487756455945], ['Negative class', -0.4342201337626492], ['Positive class', 0.6558874895340122], ['Positive class', 0.9745675884853828], ['Negative class', -0.0021163860799609433], ['Negative class', -0.0016110897862348869], ['Negative class', -0.4342201337626492], ['Negative class', -4.024308325279008e-06], ['Positive class', 0.9998899502005895], ['Negative class', -0.001635649896013367], ['Positive class', 0.9950230762764144], ['Positive class', 0.9857123831240221], ['Negative class', -0.001635649896013367], ['Positive class', 0.9563843765923739], ['Negative class', -0.4253063720072008], ['Negative class', -0.0021163860799609433], ['Positive class', 0.8459307129845188], ['Negative class', -0.02633675547308563], ['Positive class', 0.9975043115511982], ['Positive class', 0.9993289868776731], ['Negative class', -0.008722522654474067], ['Negative class', -0.0003514998814759927], ['Positive class', 0.8740396691018878], ['Negative class', -0.14860119960798063], ['Negative class', -0.4284508748250219], ['Positive class', 0.9977086954629341], ['Positive class', 0.9892600765346681], ['Positive class', 0.972712490021537], ['Negative class', -0.04394354199711369], ['Positive class', 0.9957474230952835], ['Positive class', 0.9558162199353821], ['Positive class', 0.999269892488955], ['Positive class', 0.6702399449277696], ['Positive class', 0.999269892488955], ['Positive class', 0.972712490021537], ['Positive class', 0.9410873478286405], ['Negative class', -0.001635649896013367], ['Negative class', -0.04734760550384069], ['Negative class', -0.3505488181885062], ['Positive class', 0.972712490021537], ['Negative class', -0.02633675547308563], ['Negative class', -0.02633675547308563], ['Positive class', 0.9990837148886879], ['Positive class', 0.9999357807708821], ['Negative class', -0.0003514998814759927], ['Positive class', 0.999945829092611], ['Positive class', 0.9989951487429723], ['Positive class', 0.8282482306668354], ['Positive class', 0.9738239259082678], ['Positive class', 0.9750222392142058], ['Positive class', 0.8180991240726718], ['Positive class', 0.9993609355289201], ['Negative class', -0.0004197551882906944], ['Positive class', 0.9750222392142058], ['Positive class', 0.972712490021537], ['Negative class', -0.031124998224278146], ['Positive class', 0.9857123831240221], ['Positive class', 0.980989237731039], ['Positive class', 0.9991666876509274], ['Negative class', -0.00022205568158902012], ['Positive class', 0.9973829721235121], ['Negative class', -0.006902980231094232], ['Negative class', -0.031124998224278146], ['Negative class', -0.02633675547308563], ['Negative class', -0.04323331105845152], ['Negative class', -0.031124998224278146], ['Negative class', -0.04394354199711369], ['Positive class', 0.6686161601453314], ['Positive class', 0.8911325365267942], ['Positive class', 0.9990837148886879], ['Negative class', -0.0021163860799609433], ['Negative class', -0.1851062544316105], ['Positive class', 0.9738239259082678], ['Positive class', 0.6421830646867516], ['Positive class', 0.9957474230952835], ['Positive class', 0.9918844911490926], ['Negative class', -0.01159161775950094], ['Positive class', 0.972712490021537], ['Negative class', -0.01159161775950094], ['Positive class', 0.9738239259082678], ['Negative class', -0.1821298417595828], ['Negative class', -0.031124998224278146], ['Negative class', -0.00022205568158902012], ['Negative class', -7.710239869545642e-05], ['Negative class', -0.0004197551882906944], ['Negative class', -0.00854794990949546], ['Positive class', 0.9563843765923739], ['Positive class', 0.978968031545355], ['Positive class', 0.9977086954629341], ['Positive class', 0.9738239259082678], ['Negative class', -0.031124998224278146], ['Negative class', -0.0018862508869435424], ['Positive class', 0.9750222392142058], ['Positive class', 0.9892600765346681], ['Negative class', -0.04394354199711369], ['Positive class', 0.9738239259082678], ['Negative class', -0.03783065125182416], ['Negative class', -0.01159161775950094], ['Negative class', -0.00041190095573260697], ['Negative class', -0.030065487756455945], ['Positive class', 0.9750222392142058], ['Positive class', 0.9563843765923739], ['Negative class', -0.01159161775950094], ['Negative class', -0.09975956162655075], ['Positive class', 0.9896387091996917], ['Positive class', 0.9892600765346681], ['Positive class', 0.9963429317720107], ['Positive class', 0.851517654215573], ['Negative class', -0.008722522654474067], ['Positive class', 0.9750222392142058], ['Positive class', 0.9973829721235121], ['Positive class', 0.9951842961908288], ['Positive class', 0.9963429317720107], ['Positive class', 0.9750222392142058], ['Positive class', 0.9892600765346681], ['Positive class', 0.9951842961908288], ['Negative class', -0.09531115375574245], ['Negative class', -0.13737094162837063], ['Positive class', 0.9941642932925415], ['Positive class', 0.9950230762764144], ['Negative class', -0.002436833867141526], ['Positive class', 0.9941642932925415], ['Negative class', -0.01134791013978132], ['Positive class', 0.9950230762764144], ['Positive class', 0.9953896633347192], ['Positive class', 0.9738239259082678], ['Positive class', 0.9568470443912027], ['Negative class', -0.04323331105845152], ['Negative class', -7.710239869545642e-05], ['Negative class', -0.011655881087167497], ['Positive class', 0.999945829092611], ['Negative class', -0.44505234593390525], ['Positive class', 0.972712490021537], ['Positive class', 0.972712490021537], ['Negative class', -0.0016110897862348869], ['Positive class', 0.972712490021537], ['Positive class', 0.9952079048038668], ['Negative class', -0.03712762635487881], ['Positive class', 0.5875670013110644], ['Negative class', -0.030065487756455945], ['Positive class', 0.9738239259082678], ['Negative class', -0.0016110897862348869], ['Positive class', 0.9993289868776731], ['Positive class', 0.9078079095861387], ['Negative class', -0.006902980231094232], ['Negative class', -0.4107931555844989], ['Positive class', 0.9563843765923739], ['Negative class', -0.03964282114903023], ['Negative class', -0.00022205568158902012], ['Positive class', 0.8832067746466028], ['Negative class', -0.030065487756455945], ['Positive class', 0.9993609355289201], ['Positive class', 0.9738239259082678], ['Negative class', -0.04734760550384069], ['Positive class', 0.9750222392142058], ['Positive class', 0.9902012012013722], ['Positive class', 0.9999357807708821], ['Positive class', 0.9998092276195184], ['Negative class', -0.2282851929573], ['Positive class', 0.8036708824275468], ['Positive class', 0.9738239259082678], ['Negative class', -0.011655881087167497], ['Negative class', -0.031124998224278146], ['Positive class', 0.9750222392142058], ['Positive class', 0.9563843765923739], ['Positive class', 0.9738239259082678], ['Positive class', 0.9892600765346681], ['Positive class', 0.9998092276195184], ['Negative class', -0.03964282114903023], ['Positive class', 0.8313612449369356], ['Positive class', 0.9750222392142058], ['Positive class', 0.9778558692187214], ['Negative class', -0.011655881087167497], ['Negative class', -0.0021163860799609433], ['Positive class', 0.7390842987843328], ['Positive class', 0.9887661951759751], ['Positive class', 0.972712490021537], ['Positive class', 0.9896387091996917], ['Positive class', 0.9741458705405744], ['Positive class', 0.9410873478286405], ['Negative class', -0.03764800413535118], ['Negative class', -0.00041190095573260697], ['Negative class', -0.03964282114903023], ['Negative class', -0.031124998224278146], ['Positive class', 0.9987452795348324], ['Positive class', 0.9987452795348324], ['Negative class', -0.03783065125182416], ['Positive class', 0.9778558692187214], ['Negative class', -0.04323331105845152], ['Negative class', -0.01159161775950094], ['Positive class', 0.9990837148886879], ['Negative class', -0.001635649896013367], ['Negative class', -0.031124998224278146], ['Negative class', -0.32568492628463114], ['Positive class', 0.9863016158598149], ['Positive class', 0.957091721998837], ['Negative class', -0.3190344409909604], ['Positive class', 0.9973829721235121], ['Positive class', 0.9957474230952835], ['Positive class', 0.9957474230952835], ['Negative class', -0.11360619441758282], ['Positive class', 0.9987452795348324], ['Positive class', 0.9950230762764144], ['Negative class', -7.710239869545642e-05], ['Positive class', 0.9957474230952835], ['Negative class', -0.0977339511457652], ['Negative class', -0.00041190095573260697], ['Positive class', 0.9977086954629341], ['Negative class', -0.031124998224278146], ['Positive class', 0.9998899502005895], ['Positive class', 0.972712490021537], ['Negative class', -0.3638350911806334], ['Negative class', -0.013707653325460404], ['Negative class', -0.0004197551882906944], ['Negative class', -0.03783065125182416], ['Negative class', -0.08782889033840975], ['Positive class', 0.9711661674056413], ['Negative class', -0.03783065125182416], ['Negative class', -0.002436833867141526], ['Negative class', -0.002436833867141526], ['Positive class', 0.9952079048038668], ['Positive class', 0.9857123831240221], ['Negative class', -0.0008610901698406418], ['Negative class', -0.008722522654474067], ['Positive class', 0.865278437115749], ['Positive class', 0.969075994646044], ['Negative class', -0.04323331105845152], ['Positive class', 0.9159677361375578], ['Positive class', 0.9963429317720107], ['Negative class', -0.0008610901698406418], ['Negative class', -0.0018862508869435424], ['Negative class', -7.710239869545642e-05], ['Negative class', -0.36551325002344803], ['Positive class', 0.9975043115511982], ['Positive class', 0.972712490021537], ['Negative class', -0.04394354199711369], ['Positive class', 0.9987452795348324], ['Negative class', -0.0004471145769022912], ['Positive class', 0.8055017579978345], ['Positive class', 0.6906731921796193], ['Positive class', 0.9750222392142058], ['Positive class', 0.9957474230952835], ['Positive class', 0.9973829721235121], ['Positive class', 0.9952079048038668], ['Positive class', 0.9990837148886879], ['Negative class', -0.00041190095573260697], ['Positive class', 0.9993609355289201], ['Negative class', -0.01159161775950094], ['Positive class', 0.9973829721235121], ['Positive class', 0.9410873478286405], ['Positive class', 0.972712490021537], ['Positive class', 0.9614381061364635], ['Positive class', 0.972712490021537], ['Negative class', -0.001635649896013367], ['Positive class', 0.8002709560674695], ['Positive class', 0.9896387091996917], ['Positive class', 0.9995900395466936], ['Negative class', -0.00041190095573260697], ['Negative class', -0.031124998224278146], ['Positive class', 0.9724273074775723], ['Positive class', 0.9999357807708821], ['Positive class', 0.9995900395466936], ['Positive class', 0.9750222392142058], ['Negative class', -0.03783065125182416], ['Negative class', -0.013707653325460404], ['Positive class', 0.9963429317720107], ['Negative class', -0.08180388301582059], ['Positive class', 0.9941642932925415], ['Negative class', -0.02633675547308563], ['Positive class', 0.9998092276195184], ['Positive class', 0.9750222392142058], ['Negative class', -0.0003514998814759927], ['Positive class', 0.9738239259082678], ['Negative class', -0.40290009317826975], ['Positive class', 0.9987452795348324], ['Negative class', -0.03783065125182416], ['Positive class', 0.9950230762764144], ['Negative class', -0.002436833867141526], ['Positive class', 0.9918844911490926], ['Negative class', -0.031124998224278146], ['Negative class', -0.008722522654474067], ['Positive class', 0.9918844911490926], ['Negative class', -0.00022205568158902012], ['Negative class', -0.0004471145769022912], ['Negative class', -0.013707653325460404], ['Negative class', -0.013707653325460404], ['Neutral class', 0.536001350586726], ['Positive class', 0.9999357807708821], ['Negative class', -0.16062486961201553], ['Positive class', 0.972712490021537], ['Negative class', -0.01159161775950094], ['Negative class', -0.03964282114903023], ['Negative class', -0.4133727971502194], ['Negative class', -0.00854794990949546], ['Negative class', -0.0004471145769022912], ['Positive class', 0.9738239259082678], ['Negative class', -0.007331668927166639], ['Positive class', 0.9991666876509274], ['Positive class', 0.9410873478286405], ['Positive class', 0.9750222392142058], ['Positive class', 0.8649824736879905], ['Positive class', 0.9410873478286405], ['Negative class', -0.031124998224278146], ['Negative class', -4.024308325279008e-06], ['Negative class', -0.04394354199711369], ['Positive class', 0.9989951487429723], ['Negative class', -0.12089756720426054], ['Positive class', 0.9778558692187214], ['Positive class', 0.9892600765346681], ['Positive class', 0.999269892488955], ['Positive class', 0.9973829721235121], ['Negative class', -0.001635649896013367], ['Positive class', 0.9987452795348324], ['Positive class', 0.957091721998837], ['Positive class', 0.9952079048038668], ['Negative class', -0.04323331105845152], ['Positive class', 0.999945829092611], ['Positive class', 0.9977086954629341], ['Negative class', -0.00854794990949546], ['Negative class', -0.36503792762534787], ['Negative class', -0.02633675547308563], ['Positive class', 0.9750222392142058], ['Positive class', 0.9993609355289201], ['Negative class', -0.08773750735811603], ['Positive class', 0.9989951487429723], ['Positive class', 0.9738239259082678], ['Negative class', -0.2656002195699493], ['Positive class', 0.9892600765346681], ['Positive class', 0.9998899502005895], ['Negative class', -0.0021163860799609433], ['Negative class', -0.024837534040700382], ['Negative class', -0.036299687664015416], ['Positive class', 0.9649906509587949], ['Negative class', -0.04734760550384069], ['Positive class', 0.972712490021537], ['Negative class', -4.024308325279008e-06], ['Negative class', -0.31097094491104466], ['Positive class', 0.6468907070290112], ['Negative class', -0.011655881087167497], ['Positive class', 0.9558162199353821], ['Positive class', 0.9857123831240221], ['Positive class', 0.5835439155602581], ['Positive class', 0.9970145028454928], ['Negative class', -0.2771728774783682], ['Negative class', -0.031124998224278146], ['Negative class', -0.0021163860799609433], ['Positive class', 0.9953896633347192], ['Positive class', 0.583231562746159], ['Neutral class', 0.5243200374841163], ['Neutral class', 0.5357792096112962], ['Negative class', -0.002436833867141526], ['Positive class', 0.5701011010928598], ['Positive class', 0.9991666876509274], ['Negative class', -0.013707653325460404], ['Positive class', 0.9993289868776731], ['Positive class', 0.8143787182008744], ['Positive class', 0.9738239259082678], ['Neutral class', 0.46928628240209785], ['Positive class', 0.897146190516121], ['Neutral class', 0.4540991155757456], ['Positive class', 0.9778558692187214], ['Negative class', -0.011655881087167497], ['Negative class', -0.165779431196683], ['Positive class', 0.972712490021537], ['Positive class', 0.9977086954629341], ['Positive class', 0.7665459122482959], ['Positive class', 0.9410873478286405], ['Positive class', 0.9995900395466936], ['Negative class', -0.0004471145769022912], ['Positive class', 0.9991666876509274], ['Negative class', -0.0008610901698406418], ['Negative class', -0.00041190095573260697], ['Positive class', 0.9750222392142058], ['Negative class', -0.008722522654474067], ['Negative class', -0.031124998224278146], ['Negative class', -0.00854794990949546], ['Positive class', 0.7924268550477376], ['Positive class', 0.6226126466938687], ['Negative class', -0.03964282114903023], ['Negative class', -0.008722522654474067], ['Negative class', -0.040259878801294564], ['Negative class', -0.035859711307618294], ['Positive class', 0.9410873478286405], ['Negative class', -0.03783065125182416], ['Negative class', -0.04734760550384069], ['Positive class', 0.9987452795348324], ['Positive class', 0.8443785239337228], ['Negative class', -0.001635649896013367], ['Positive class', 0.9952079048038668], ['Negative class', -0.002436833867141526], ['Positive class', 0.9950230762764144], ['Negative class', -0.011655881087167497]]\n"
     ]
    }
   ],
   "source": [
    "Y_pred = Y_prediction[:,1]\n",
    "classes = []        \n",
    "for j in Y_pred:\n",
    "    if j > 0.55:\n",
    "        classes.append(['Positive class',j])\n",
    "    elif j < 0.45:\n",
    "        classes.append(['Negative class',0 - j])\n",
    "    else:\n",
    "        classes.append(['Neutral class',j])\n",
    "\n",
    "print(classes)"
   ]
  },
  {
   "cell_type": "code",
   "execution_count": 11,
   "metadata": {},
   "outputs": [
    {
     "name": "stdout",
     "output_type": "stream",
     "text": [
      "Positive class    997\n",
      "Negative class    707\n",
      "Neutral class      25\n",
      "Name: Class_labels, dtype: int64\n"
     ]
    }
   ],
   "source": [
    "#-----------capture_classes_and_probabilities_in_dataframe------\n",
    "\n",
    "\n",
    "class_labels=[]\n",
    "class_probability=[]\n",
    "for i in range(0,len(classes)):\n",
    "    temp=classes[i]\n",
    "    class_labels.append(temp[0])\n",
    "    class_probability.append(temp[1])\n",
    "    \n",
    "#print(class_labels)\n",
    "#print(class_probability)\n",
    "\n",
    "temp1=pd.DataFrame(class_labels,columns=['Class_labels'])\n",
    "temp2=pd.DataFrame(class_probability,columns=['Class_probabilities'])\n",
    "\n",
    "df=pd.concat([temp1,temp2],axis=1)\n",
    "# print(df.head())\n",
    "print(df['Class_labels'].value_counts())"
   ]
  },
  {
   "cell_type": "code",
   "execution_count": 12,
   "metadata": {},
   "outputs": [
    {
     "name": "stdout",
     "output_type": "stream",
     "text": [
      "Test accuracy is : \n",
      "0.9589358010410642\n"
     ]
    }
   ],
   "source": [
    "#-------Test_model_performance_model_accuracy-------------\n",
    "print(\"Test accuracy is : \")\n",
    "X_test_transformed = scaler.transform(X_test)\n",
    "print(clf.score(X_test_transformed, Y_test))"
   ]
  },
  {
   "cell_type": "code",
   "execution_count": 13,
   "metadata": {},
   "outputs": [],
   "source": [
    "#---Save_dataframe_to_jason_file------------"
   ]
  },
  {
   "cell_type": "code",
   "execution_count": 40,
   "metadata": {},
   "outputs": [],
   "source": [
    "df.to_json(\"Sentiment_results_1.JSON\")"
   ]
  },
  {
   "cell_type": "code",
   "execution_count": 41,
   "metadata": {},
   "outputs": [
    {
     "data": {
      "text/plain": [
       "' As probability value never be negative. It always lies between (0,1), but for the purpos the probabilities for\\nnegative classes should be lie in between (-1,0). To achive this I \\nmade slight adjustment by defining some threshold value. In general practice we use threshold value\\nto generate class label decision from probabilities.'"
      ]
     },
     "execution_count": 41,
     "metadata": {},
     "output_type": "execute_result"
    }
   ],
   "source": [
    "\"\"\" As probability value never be negative. It always lies between (0,1), but for the purpos the probabilities for\n",
    "negative classes should be lie in between (-1,0). To achive this I \n",
    "made slight adjustment by defining some threshold value. In general practice we use threshold value\n",
    "to generate class label decision from probabilities.\"\"\""
   ]
  },
  {
   "cell_type": "code",
   "execution_count": 42,
   "metadata": {},
   "outputs": [],
   "source": [
    "#----------------Implement_above_model_on_test_reviews_dataset-----------------"
   ]
  },
  {
   "cell_type": "code",
   "execution_count": 43,
   "metadata": {},
   "outputs": [],
   "source": [
    "import json\n",
    "with open('Test_text.JSON') as f:\n",
    "    data = json.load(f)"
   ]
  },
  {
   "cell_type": "code",
   "execution_count": 44,
   "metadata": {},
   "outputs": [
    {
     "name": "stdout",
     "output_type": "stream",
     "text": [
      "                                            Text_set\n",
      "0  Fed's Charles Plosser sees high bar for change...\n",
      "1  Policy shouldn’t be “whip-sawed from month to ...\n",
      "2  The numbers were “encouraging,” though they fo...\n",
      "3  The Fed has pledged to keep the main interest ...\n",
      "4  Plosser, a former University of Rochester econ...\n",
      "5  Fed's Plosser: Nasty Weather Has Curbed Job Gr...\n",
      "6  In a speech at the Bank of France, Philadelphi...\n"
     ]
    }
   ],
   "source": [
    "text=pd.DataFrame(data)\n",
    "print(text)"
   ]
  },
  {
   "cell_type": "code",
   "execution_count": 45,
   "metadata": {},
   "outputs": [],
   "source": [
    "Y_pred=[]\n",
    "for i in range(0,len(text)):\n",
    "    #---------Implement_trained_model_on_test_review_text--------\n",
    "    text_numeric=vectorizer.transform(text.iloc[i])\n",
    "    Y_prediction=clf.predict_proba(text_numeric)\n",
    "    Y_pred.append(Y_prediction[:,1])"
   ]
  },
  {
   "cell_type": "code",
   "execution_count": 46,
   "metadata": {},
   "outputs": [
    {
     "data": {
      "text/plain": [
       "[array([0.75538688]),\n",
       " array([0.86382681]),\n",
       " array([0.74378002]),\n",
       " array([0.14010586]),\n",
       " array([0.56870303]),\n",
       " array([0.64742644]),\n",
       " array([0.44975557])]"
      ]
     },
     "execution_count": 46,
     "metadata": {},
     "output_type": "execute_result"
    }
   ],
   "source": [
    "Y_pred"
   ]
  },
  {
   "cell_type": "code",
   "execution_count": 47,
   "metadata": {},
   "outputs": [
    {
     "name": "stdout",
     "output_type": "stream",
     "text": [
      "[['Positive class', array([0.75538688])], ['Positive class', array([0.86382681])], ['Positive class', array([0.74378002])], ['Negative class', array([-0.14010586])], ['Positive class', array([0.56870303])], ['Positive class', array([0.64742644])], ['Negative class', array([-0.44975557])]]\n"
     ]
    }
   ],
   "source": [
    "classes = []        \n",
    "for j in Y_pred:\n",
    "    if j > 0.55:\n",
    "        classes.append(['Positive class',j])\n",
    "    elif j < 0.45:\n",
    "        classes.append(['Negative class',0 - j])\n",
    "    else:\n",
    "        classes.append(['Neutral class',j])\n",
    "\n",
    "print(classes)"
   ]
  },
  {
   "cell_type": "code",
   "execution_count": 48,
   "metadata": {},
   "outputs": [],
   "source": [
    "#-----------capture_classes_and_probabilities_in_dataframe------\n",
    "class_labels=[]\n",
    "class_probability=[]\n",
    "for i in range(0,len(classes)):\n",
    "    temp=classes[i]\n",
    "    class_labels.append(temp[0])\n",
    "    class_probability.append(temp[1])\n",
    "    \n",
    "#print(class_labels)\n",
    "#print(class_probability)\n",
    "\n",
    "temp1=pd.DataFrame(class_labels,columns=['Class_labels'])\n",
    "temp2=pd.DataFrame(class_probability,columns=['Class_probabilities'])"
   ]
  },
  {
   "cell_type": "code",
   "execution_count": 49,
   "metadata": {},
   "outputs": [
    {
     "data": {
      "text/html": [
       "<div>\n",
       "<style scoped>\n",
       "    .dataframe tbody tr th:only-of-type {\n",
       "        vertical-align: middle;\n",
       "    }\n",
       "\n",
       "    .dataframe tbody tr th {\n",
       "        vertical-align: top;\n",
       "    }\n",
       "\n",
       "    .dataframe thead th {\n",
       "        text-align: right;\n",
       "    }\n",
       "</style>\n",
       "<table border=\"1\" class=\"dataframe\">\n",
       "  <thead>\n",
       "    <tr style=\"text-align: right;\">\n",
       "      <th></th>\n",
       "      <th>Class_labels</th>\n",
       "      <th>Class_probabilities</th>\n",
       "    </tr>\n",
       "  </thead>\n",
       "  <tbody>\n",
       "    <tr>\n",
       "      <th>0</th>\n",
       "      <td>Positive class</td>\n",
       "      <td>0.755387</td>\n",
       "    </tr>\n",
       "    <tr>\n",
       "      <th>1</th>\n",
       "      <td>Positive class</td>\n",
       "      <td>0.863827</td>\n",
       "    </tr>\n",
       "    <tr>\n",
       "      <th>2</th>\n",
       "      <td>Positive class</td>\n",
       "      <td>0.743780</td>\n",
       "    </tr>\n",
       "    <tr>\n",
       "      <th>3</th>\n",
       "      <td>Negative class</td>\n",
       "      <td>-0.140106</td>\n",
       "    </tr>\n",
       "    <tr>\n",
       "      <th>4</th>\n",
       "      <td>Positive class</td>\n",
       "      <td>0.568703</td>\n",
       "    </tr>\n",
       "  </tbody>\n",
       "</table>\n",
       "</div>"
      ],
      "text/plain": [
       "     Class_labels  Class_probabilities\n",
       "0  Positive class             0.755387\n",
       "1  Positive class             0.863827\n",
       "2  Positive class             0.743780\n",
       "3  Negative class            -0.140106\n",
       "4  Positive class             0.568703"
      ]
     },
     "execution_count": 49,
     "metadata": {},
     "output_type": "execute_result"
    }
   ],
   "source": [
    "final_df=pd.concat([temp1,temp2],axis=1)\n",
    "final_df.head()"
   ]
  },
  {
   "cell_type": "code",
   "execution_count": null,
   "metadata": {},
   "outputs": [],
   "source": []
  }
 ],
 "metadata": {
  "kernelspec": {
   "display_name": "Python 3",
   "language": "python",
   "name": "python3"
  },
  "language_info": {
   "codemirror_mode": {
    "name": "ipython",
    "version": 3
   },
   "file_extension": ".py",
   "mimetype": "text/x-python",
   "name": "python",
   "nbconvert_exporter": "python",
   "pygments_lexer": "ipython3",
   "version": "3.6.4"
  }
 },
 "nbformat": 4,
 "nbformat_minor": 2
}
